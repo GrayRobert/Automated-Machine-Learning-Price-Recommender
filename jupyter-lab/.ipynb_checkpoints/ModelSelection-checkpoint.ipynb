{
 "cells": [
  {
   "cell_type": "code",
   "execution_count": 1,
   "metadata": {},
   "outputs": [],
   "source": [
    "# pandas and numpy for data manipulation\n",
    "import pandas as pd\n",
    "import numpy as np\n",
    "import os\n",
    "\n",
    "# Import the tpot regressor\n",
    "from tpot import TPOTRegressor\n",
    "from sklearn.model_selection import train_test_split"
   ]
  },
  {
   "cell_type": "code",
   "execution_count": 2,
   "metadata": {},
   "outputs": [],
   "source": [
    "PROJECT_DIRECTORY = os.getcwd()\n",
    "DATA_DIRECTORY = os.path.join(PROJECT_DIRECTORY,'data')\n",
    "DATA_CSV = os.path.join(DATA_DIRECTORY, \"summer_training_data.csv\")"
   ]
  },
  {
   "cell_type": "code",
   "execution_count": 3,
   "metadata": {},
   "outputs": [],
   "source": [
    "data = pd.read_csv(DATA_CSV)"
   ]
  },
  {
   "cell_type": "code",
   "execution_count": 4,
   "metadata": {},
   "outputs": [],
   "source": [
    "## Convert to dates\n",
    "data.travel_date = pd.to_datetime(data.travel_date, format='%Y/%m/%d')\n",
    "data.booking_date = pd.to_datetime(data.booking_date, format='%Y/%m/%d')\n",
    "\n",
    "## Drop what we don't need\n",
    "data.dropna(inplace=True)\n",
    "data.drop('accomodation', axis=1, inplace=True)\n",
    "data.drop('accom_location', axis=1, inplace=True)\n",
    "data.drop('destination', axis=1, inplace=True)\n",
    "data.drop('accom_id', axis=1, inplace=True)\n",
    "data = data.drop('departure_airport', axis=1)\n",
    "data = data.drop('accom_type', axis=1)\n",
    "data = data.drop('accom_board_basis', axis=1)\n",
    "\n",
    "## Add Weeks, important for seasonality\n",
    "data['travel_week'] = data['travel_date'].dt.week\n",
    "data['booking_week'] = data['booking_date'].dt.week\n",
    "\n",
    "data.drop('travel_date', axis=1, inplace=True)\n",
    "data.drop('booking_date', axis=1, inplace=True)\n",
    "\n",
    "\n",
    "\n",
    "\n",
    "## Re-Index\n",
    "data.index = range(len(data))"
   ]
  },
  {
   "cell_type": "code",
   "execution_count": 5,
   "metadata": {},
   "outputs": [],
   "source": [
    "y=np.array(data.price_per_person)\n",
    "\n",
    "data.drop('price_per_person', axis=1, inplace=True)\n",
    "X=np.array(data)\n",
    "\n",
    "X_train, X_test, y_train, y_test = train_test_split(\n",
    "    X,y, test_size=0.33, random_state=42)"
   ]
  },
  {
   "cell_type": "code",
   "execution_count": 6,
   "metadata": {},
   "outputs": [],
   "source": [
    "# Create a tpot object with a few parameters\n",
    "tpot = TPOTRegressor(scoring = 'r2', \n",
    "                    max_time_mins = 480, \n",
    "                    n_jobs = -1,\n",
    "                    verbosity = 2,\n",
    "                    cv = 5,\n",
    "                    generations=100, \n",
    "                    population_size=100, \n",
    "                    random_state=42, \n",
    "                    warm_start=True)"
   ]
  },
  {
   "cell_type": "code",
   "execution_count": null,
   "metadata": {},
   "outputs": [],
   "source": [
    "# Fit the tpot model on the training data\n",
    "tpot.fit(X_train, y_train)"
   ]
  }
 ],
 "metadata": {
  "kernelspec": {
   "display_name": "Python 3",
   "language": "python",
   "name": "python3"
  },
  "language_info": {
   "codemirror_mode": {
    "name": "ipython",
    "version": 3
   },
   "file_extension": ".py",
   "mimetype": "text/x-python",
   "name": "python",
   "nbconvert_exporter": "python",
   "pygments_lexer": "ipython3",
   "version": "3.6.5"
  }
 },
 "nbformat": 4,
 "nbformat_minor": 2
}
